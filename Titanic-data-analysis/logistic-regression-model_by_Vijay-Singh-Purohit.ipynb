{
 "cells": [
  {
   "cell_type": "markdown",
   "metadata": {},
   "source": [
    "## Assignment by Vijay Singh Purohit   \n",
    "$Department$ : $ Data Science $\n",
    "\n",
    "$Roll Number$ : $DS7A-2016$\n"
   ]
  },
  {
   "cell_type": "markdown",
   "metadata": {
    "_cell_guid": "a3fffcc8-46e2-4346-b8de-354f41806d95",
    "_uuid": "30bb17447531d9b1f563bebcaae37d9265f5bd8c"
   },
   "source": [
    "# Titanic \n",
    "\n",
    "Goal: predict survival on the Titanic  \n",
    "\n",
    "Here we are looking into how to apply $Logistic Regression$ to the Titanic dataset."
   ]
  },
  {
   "cell_type": "markdown",
   "metadata": {
    "_cell_guid": "d3bc772a-f3dd-4e07-a2cf-1cab13d9843c",
    "_uuid": "497cbf6b6b1795d653c2dde5c5d2e1aaddec222d"
   },
   "source": [
    "# 1. Collect and understand the data"
   ]
  },
  {
   "cell_type": "code",
   "execution_count": 1,
   "metadata": {
    "_cell_guid": "2f3f9444-f10e-4e26-a148-ed280c6827a1",
    "_uuid": "827ceb42c82d2cc318aa019847ac1566e30b4755"
   },
   "outputs": [],
   "source": [
    "import pandas as pd"
   ]
  },
  {
   "cell_type": "code",
   "execution_count": 3,
   "metadata": {
    "_cell_guid": "8d128176-234e-467d-87b0-d74513b7ac64",
    "_uuid": "476bda4a772d9577f82c5f14ca052c76f2a6c4ad"
   },
   "outputs": [],
   "source": [
    "# get titanic training file as a DataFrame\n",
    "titanic = pd.read_csv(\"../datasets/logistic/Titanic-train.csv\")"
   ]
  },
  {
   "cell_type": "code",
   "execution_count": 4,
   "metadata": {
    "_cell_guid": "57dc52f3-8183-404a-826e-fefd079a80ba",
    "_uuid": "7139e6904e273b6deb010a849d002e238aaeccfd"
   },
   "outputs": [
    {
     "data": {
      "text/plain": [
       "(891, 12)"
      ]
     },
     "execution_count": 4,
     "metadata": {},
     "output_type": "execute_result"
    }
   ],
   "source": [
    "titanic.shape"
   ]
  },
  {
   "cell_type": "code",
   "execution_count": 5,
   "metadata": {
    "_cell_guid": "1c6e9d92-02b9-411c-9796-4564dd510824",
    "_uuid": "d67bcd232f2f765c9f67a705929fe4794869cd93"
   },
   "outputs": [
    {
     "data": {
      "text/html": [
       "<div>\n",
       "<style scoped>\n",
       "    .dataframe tbody tr th:only-of-type {\n",
       "        vertical-align: middle;\n",
       "    }\n",
       "\n",
       "    .dataframe tbody tr th {\n",
       "        vertical-align: top;\n",
       "    }\n",
       "\n",
       "    .dataframe thead th {\n",
       "        text-align: right;\n",
       "    }\n",
       "</style>\n",
       "<table border=\"1\" class=\"dataframe\">\n",
       "  <thead>\n",
       "    <tr style=\"text-align: right;\">\n",
       "      <th></th>\n",
       "      <th>PassengerId</th>\n",
       "      <th>Survived</th>\n",
       "      <th>Pclass</th>\n",
       "      <th>Name</th>\n",
       "      <th>Sex</th>\n",
       "      <th>Age</th>\n",
       "      <th>SibSp</th>\n",
       "      <th>Parch</th>\n",
       "      <th>Ticket</th>\n",
       "      <th>Fare</th>\n",
       "      <th>Cabin</th>\n",
       "      <th>Embarked</th>\n",
       "    </tr>\n",
       "  </thead>\n",
       "  <tbody>\n",
       "    <tr>\n",
       "      <td>0</td>\n",
       "      <td>1</td>\n",
       "      <td>0</td>\n",
       "      <td>3</td>\n",
       "      <td>Braund, Mr. Owen Harris</td>\n",
       "      <td>male</td>\n",
       "      <td>22.0</td>\n",
       "      <td>1</td>\n",
       "      <td>0</td>\n",
       "      <td>A/5 21171</td>\n",
       "      <td>7.2500</td>\n",
       "      <td>NaN</td>\n",
       "      <td>S</td>\n",
       "    </tr>\n",
       "    <tr>\n",
       "      <td>1</td>\n",
       "      <td>2</td>\n",
       "      <td>1</td>\n",
       "      <td>1</td>\n",
       "      <td>Cumings, Mrs. John Bradley (Florence Briggs Th...</td>\n",
       "      <td>female</td>\n",
       "      <td>38.0</td>\n",
       "      <td>1</td>\n",
       "      <td>0</td>\n",
       "      <td>PC 17599</td>\n",
       "      <td>71.2833</td>\n",
       "      <td>C85</td>\n",
       "      <td>C</td>\n",
       "    </tr>\n",
       "    <tr>\n",
       "      <td>2</td>\n",
       "      <td>3</td>\n",
       "      <td>1</td>\n",
       "      <td>3</td>\n",
       "      <td>Heikkinen, Miss. Laina</td>\n",
       "      <td>female</td>\n",
       "      <td>26.0</td>\n",
       "      <td>0</td>\n",
       "      <td>0</td>\n",
       "      <td>STON/O2. 3101282</td>\n",
       "      <td>7.9250</td>\n",
       "      <td>NaN</td>\n",
       "      <td>S</td>\n",
       "    </tr>\n",
       "    <tr>\n",
       "      <td>3</td>\n",
       "      <td>4</td>\n",
       "      <td>1</td>\n",
       "      <td>1</td>\n",
       "      <td>Futrelle, Mrs. Jacques Heath (Lily May Peel)</td>\n",
       "      <td>female</td>\n",
       "      <td>35.0</td>\n",
       "      <td>1</td>\n",
       "      <td>0</td>\n",
       "      <td>113803</td>\n",
       "      <td>53.1000</td>\n",
       "      <td>C123</td>\n",
       "      <td>S</td>\n",
       "    </tr>\n",
       "    <tr>\n",
       "      <td>4</td>\n",
       "      <td>5</td>\n",
       "      <td>0</td>\n",
       "      <td>3</td>\n",
       "      <td>Allen, Mr. William Henry</td>\n",
       "      <td>male</td>\n",
       "      <td>35.0</td>\n",
       "      <td>0</td>\n",
       "      <td>0</td>\n",
       "      <td>373450</td>\n",
       "      <td>8.0500</td>\n",
       "      <td>NaN</td>\n",
       "      <td>S</td>\n",
       "    </tr>\n",
       "  </tbody>\n",
       "</table>\n",
       "</div>"
      ],
      "text/plain": [
       "   PassengerId  Survived  Pclass  \\\n",
       "0            1         0       3   \n",
       "1            2         1       1   \n",
       "2            3         1       3   \n",
       "3            4         1       1   \n",
       "4            5         0       3   \n",
       "\n",
       "                                                Name     Sex   Age  SibSp  \\\n",
       "0                            Braund, Mr. Owen Harris    male  22.0      1   \n",
       "1  Cumings, Mrs. John Bradley (Florence Briggs Th...  female  38.0      1   \n",
       "2                             Heikkinen, Miss. Laina  female  26.0      0   \n",
       "3       Futrelle, Mrs. Jacques Heath (Lily May Peel)  female  35.0      1   \n",
       "4                           Allen, Mr. William Henry    male  35.0      0   \n",
       "\n",
       "   Parch            Ticket     Fare Cabin Embarked  \n",
       "0      0         A/5 21171   7.2500   NaN        S  \n",
       "1      0          PC 17599  71.2833   C85        C  \n",
       "2      0  STON/O2. 3101282   7.9250   NaN        S  \n",
       "3      0            113803  53.1000  C123        S  \n",
       "4      0            373450   8.0500   NaN        S  "
      ]
     },
     "execution_count": 5,
     "metadata": {},
     "output_type": "execute_result"
    }
   ],
   "source": [
    "# preview the data\n",
    "titanic.head()"
   ]
  },
  {
   "cell_type": "markdown",
   "metadata": {
    "_cell_guid": "9e727654-fdec-467c-b507-887e946dd83a",
    "_uuid": "ea5503f098726b3ecb53ffce4f129fce3b1ddb76"
   },
   "source": [
    "Variable Description\n",
    "---\n",
    "Survived: Survived (1) or died (0);  this is the target variable  \n",
    "Pclass: Passenger's class (1st, 2nd or 3rd class)    \n",
    "Name: Passenger's name  \n",
    "Sex: Passenger's sex  \n",
    "Age: Passenger's age  \n",
    "SibSp: Number of siblings/spouses aboard  \n",
    "Parch: Number of parents/children aboard  \n",
    "Ticket: Ticket number  \n",
    "Fare: Fare  \n",
    "Cabin: Cabin  \n",
    "Embarked: Port of embarkation"
   ]
  },
  {
   "cell_type": "code",
   "execution_count": 6,
   "metadata": {
    "_cell_guid": "8f0bd3c2-6f5d-47ae-80ed-db774302591e",
    "_uuid": "e1ac18636576210de914039646adf2c7873a8d01"
   },
   "outputs": [
    {
     "data": {
      "text/html": [
       "<div>\n",
       "<style scoped>\n",
       "    .dataframe tbody tr th:only-of-type {\n",
       "        vertical-align: middle;\n",
       "    }\n",
       "\n",
       "    .dataframe tbody tr th {\n",
       "        vertical-align: top;\n",
       "    }\n",
       "\n",
       "    .dataframe thead th {\n",
       "        text-align: right;\n",
       "    }\n",
       "</style>\n",
       "<table border=\"1\" class=\"dataframe\">\n",
       "  <thead>\n",
       "    <tr style=\"text-align: right;\">\n",
       "      <th></th>\n",
       "      <th>PassengerId</th>\n",
       "      <th>Survived</th>\n",
       "      <th>Pclass</th>\n",
       "      <th>Age</th>\n",
       "      <th>SibSp</th>\n",
       "      <th>Parch</th>\n",
       "      <th>Fare</th>\n",
       "    </tr>\n",
       "  </thead>\n",
       "  <tbody>\n",
       "    <tr>\n",
       "      <td>count</td>\n",
       "      <td>891.000000</td>\n",
       "      <td>891.000000</td>\n",
       "      <td>891.000000</td>\n",
       "      <td>714.000000</td>\n",
       "      <td>891.000000</td>\n",
       "      <td>891.000000</td>\n",
       "      <td>891.000000</td>\n",
       "    </tr>\n",
       "    <tr>\n",
       "      <td>mean</td>\n",
       "      <td>446.000000</td>\n",
       "      <td>0.383838</td>\n",
       "      <td>2.308642</td>\n",
       "      <td>29.699118</td>\n",
       "      <td>0.523008</td>\n",
       "      <td>0.381594</td>\n",
       "      <td>32.204208</td>\n",
       "    </tr>\n",
       "    <tr>\n",
       "      <td>std</td>\n",
       "      <td>257.353842</td>\n",
       "      <td>0.486592</td>\n",
       "      <td>0.836071</td>\n",
       "      <td>14.526497</td>\n",
       "      <td>1.102743</td>\n",
       "      <td>0.806057</td>\n",
       "      <td>49.693429</td>\n",
       "    </tr>\n",
       "    <tr>\n",
       "      <td>min</td>\n",
       "      <td>1.000000</td>\n",
       "      <td>0.000000</td>\n",
       "      <td>1.000000</td>\n",
       "      <td>0.420000</td>\n",
       "      <td>0.000000</td>\n",
       "      <td>0.000000</td>\n",
       "      <td>0.000000</td>\n",
       "    </tr>\n",
       "    <tr>\n",
       "      <td>25%</td>\n",
       "      <td>223.500000</td>\n",
       "      <td>0.000000</td>\n",
       "      <td>2.000000</td>\n",
       "      <td>20.125000</td>\n",
       "      <td>0.000000</td>\n",
       "      <td>0.000000</td>\n",
       "      <td>7.910400</td>\n",
       "    </tr>\n",
       "    <tr>\n",
       "      <td>50%</td>\n",
       "      <td>446.000000</td>\n",
       "      <td>0.000000</td>\n",
       "      <td>3.000000</td>\n",
       "      <td>28.000000</td>\n",
       "      <td>0.000000</td>\n",
       "      <td>0.000000</td>\n",
       "      <td>14.454200</td>\n",
       "    </tr>\n",
       "    <tr>\n",
       "      <td>75%</td>\n",
       "      <td>668.500000</td>\n",
       "      <td>1.000000</td>\n",
       "      <td>3.000000</td>\n",
       "      <td>38.000000</td>\n",
       "      <td>1.000000</td>\n",
       "      <td>0.000000</td>\n",
       "      <td>31.000000</td>\n",
       "    </tr>\n",
       "    <tr>\n",
       "      <td>max</td>\n",
       "      <td>891.000000</td>\n",
       "      <td>1.000000</td>\n",
       "      <td>3.000000</td>\n",
       "      <td>80.000000</td>\n",
       "      <td>8.000000</td>\n",
       "      <td>6.000000</td>\n",
       "      <td>512.329200</td>\n",
       "    </tr>\n",
       "  </tbody>\n",
       "</table>\n",
       "</div>"
      ],
      "text/plain": [
       "       PassengerId    Survived      Pclass         Age       SibSp  \\\n",
       "count   891.000000  891.000000  891.000000  714.000000  891.000000   \n",
       "mean    446.000000    0.383838    2.308642   29.699118    0.523008   \n",
       "std     257.353842    0.486592    0.836071   14.526497    1.102743   \n",
       "min       1.000000    0.000000    1.000000    0.420000    0.000000   \n",
       "25%     223.500000    0.000000    2.000000   20.125000    0.000000   \n",
       "50%     446.000000    0.000000    3.000000   28.000000    0.000000   \n",
       "75%     668.500000    1.000000    3.000000   38.000000    1.000000   \n",
       "max     891.000000    1.000000    3.000000   80.000000    8.000000   \n",
       "\n",
       "            Parch        Fare  \n",
       "count  891.000000  891.000000  \n",
       "mean     0.381594   32.204208  \n",
       "std      0.806057   49.693429  \n",
       "min      0.000000    0.000000  \n",
       "25%      0.000000    7.910400  \n",
       "50%      0.000000   14.454200  \n",
       "75%      0.000000   31.000000  \n",
       "max      6.000000  512.329200  "
      ]
     },
     "execution_count": 6,
     "metadata": {},
     "output_type": "execute_result"
    }
   ],
   "source": [
    "titanic.describe()"
   ]
  },
  {
   "cell_type": "markdown",
   "metadata": {
    "_cell_guid": "b8c0458f-8c4d-49cd-b7f7-58e75ebfcca6",
    "_uuid": "7b9d79e1c20ad9c8e3cc3ffb1cfe1e499d62fb97"
   },
   "source": [
    "Not all features are numeric:"
   ]
  },
  {
   "cell_type": "code",
   "execution_count": 7,
   "metadata": {
    "_cell_guid": "625e2d2e-cbdd-450c-8637-0e3f464138e0",
    "_uuid": "941c7b6c731e1a0caa6f789df1e7a65c5fa1f235"
   },
   "outputs": [
    {
     "name": "stdout",
     "output_type": "stream",
     "text": [
      "<class 'pandas.core.frame.DataFrame'>\n",
      "RangeIndex: 891 entries, 0 to 890\n",
      "Data columns (total 12 columns):\n",
      "PassengerId    891 non-null int64\n",
      "Survived       891 non-null int64\n",
      "Pclass         891 non-null int64\n",
      "Name           891 non-null object\n",
      "Sex            891 non-null object\n",
      "Age            714 non-null float64\n",
      "SibSp          891 non-null int64\n",
      "Parch          891 non-null int64\n",
      "Ticket         891 non-null object\n",
      "Fare           891 non-null float64\n",
      "Cabin          204 non-null object\n",
      "Embarked       889 non-null object\n",
      "dtypes: float64(2), int64(5), object(5)\n",
      "memory usage: 83.7+ KB\n"
     ]
    }
   ],
   "source": [
    "titanic.info()"
   ]
  },
  {
   "cell_type": "markdown",
   "metadata": {
    "_cell_guid": "856dc3b5-dd81-4ede-87b5-f3793cb1d939",
    "_uuid": "7dc561843d57857e3c4dda83787e532ba2159fac"
   },
   "source": [
    "# 2. Process the Data\n",
    "Categorical variables need to be transformed into numeric variables"
   ]
  },
  {
   "cell_type": "markdown",
   "metadata": {
    "_cell_guid": "851ed8b0-e110-4f0f-a21b-1eb3d9a5ce0c",
    "_uuid": "74e0d679346e9bffbd0c5ea6a1104cb10bba8504"
   },
   "source": [
    "### Transform the embarkment port"
   ]
  },
  {
   "cell_type": "markdown",
   "metadata": {
    "_cell_guid": "5d0d890a-34d4-4f24-a616-a0566b14d5e3",
    "_uuid": "737e6c9c968c18dc5802a680515c2acf34f2dc73"
   },
   "source": [
    "There are three ports: C = Cherbourg, Q = Queenstown, S = Southampton"
   ]
  },
  {
   "cell_type": "code",
   "execution_count": 8,
   "metadata": {
    "_cell_guid": "489f002e-be8c-490c-b886-fbe31b61f6dd",
    "_uuid": "1ab7787e7c14e9097dd052aa2296ba76d4573cb1"
   },
   "outputs": [
    {
     "data": {
      "text/html": [
       "<div>\n",
       "<style scoped>\n",
       "    .dataframe tbody tr th:only-of-type {\n",
       "        vertical-align: middle;\n",
       "    }\n",
       "\n",
       "    .dataframe tbody tr th {\n",
       "        vertical-align: top;\n",
       "    }\n",
       "\n",
       "    .dataframe thead th {\n",
       "        text-align: right;\n",
       "    }\n",
       "</style>\n",
       "<table border=\"1\" class=\"dataframe\">\n",
       "  <thead>\n",
       "    <tr style=\"text-align: right;\">\n",
       "      <th></th>\n",
       "      <th>Embarked_C</th>\n",
       "      <th>Embarked_Q</th>\n",
       "      <th>Embarked_S</th>\n",
       "    </tr>\n",
       "  </thead>\n",
       "  <tbody>\n",
       "    <tr>\n",
       "      <td>0</td>\n",
       "      <td>0</td>\n",
       "      <td>0</td>\n",
       "      <td>1</td>\n",
       "    </tr>\n",
       "    <tr>\n",
       "      <td>1</td>\n",
       "      <td>1</td>\n",
       "      <td>0</td>\n",
       "      <td>0</td>\n",
       "    </tr>\n",
       "    <tr>\n",
       "      <td>2</td>\n",
       "      <td>0</td>\n",
       "      <td>0</td>\n",
       "      <td>1</td>\n",
       "    </tr>\n",
       "    <tr>\n",
       "      <td>3</td>\n",
       "      <td>0</td>\n",
       "      <td>0</td>\n",
       "      <td>1</td>\n",
       "    </tr>\n",
       "    <tr>\n",
       "      <td>4</td>\n",
       "      <td>0</td>\n",
       "      <td>0</td>\n",
       "      <td>1</td>\n",
       "    </tr>\n",
       "  </tbody>\n",
       "</table>\n",
       "</div>"
      ],
      "text/plain": [
       "   Embarked_C  Embarked_Q  Embarked_S\n",
       "0           0           0           1\n",
       "1           1           0           0\n",
       "2           0           0           1\n",
       "3           0           0           1\n",
       "4           0           0           1"
      ]
     },
     "execution_count": 8,
     "metadata": {},
     "output_type": "execute_result"
    }
   ],
   "source": [
    "ports = pd.get_dummies(titanic.Embarked , prefix='Embarked')\n",
    "ports.head()"
   ]
  },
  {
   "cell_type": "markdown",
   "metadata": {
    "_cell_guid": "ef6fe4a7-26b2-44e1-b0a1-87ec36596b0b",
    "_uuid": "1787519de936da6483f10a6bf8cab1aa9fd730f6"
   },
   "source": [
    "Now the feature Embarked (a category) has been trasformed into 3 binary features, e.g. Embarked_C = 0 not embarked in Cherbourg, 1 = embarked in Cherbourg.  \n",
    "Finally, the 3 new binary features substitute the original one in the data frame:"
   ]
  },
  {
   "cell_type": "code",
   "execution_count": 9,
   "metadata": {
    "_cell_guid": "1ebc79ff-40b4-4cb2-ad1c-b805706f669c",
    "_uuid": "ce14afe8ef63ef82d99b4a73047c8900065ce5ba"
   },
   "outputs": [],
   "source": [
    "titanic = titanic.join(ports)\n",
    "titanic.drop(['Embarked'], axis=1, inplace=True) # then drop the original column"
   ]
  },
  {
   "cell_type": "markdown",
   "metadata": {
    "_cell_guid": "48181569-38e2-40bb-94cc-fce84cbd05ce",
    "_uuid": "82d4739986df5722a941490cfb1ccac03cf47fd1"
   },
   "source": [
    "### Transform the gender feature\n",
    "This transformation is easier, being already a binary classification (male or female, this was 1912).\n",
    "It doesn't need to create separate dummy categories, a mapping will be enough:"
   ]
  },
  {
   "cell_type": "code",
   "execution_count": 10,
   "metadata": {
    "_cell_guid": "8403d00b-620f-4146-8bb1-4d6145068031",
    "_uuid": "4c5c3494c295b60c282e0a434b2d60ec9bf7697c"
   },
   "outputs": [],
   "source": [
    "titanic.Sex = titanic.Sex.map({'male':0, 'female':1})"
   ]
  },
  {
   "cell_type": "markdown",
   "metadata": {
    "_cell_guid": "4a152190-01bf-4685-9694-82fe42e6b357",
    "_uuid": "34655438bfc7f2b5bdd6d0267cc096135e737a1e"
   },
   "source": [
    "## Extract the target variable\n",
    "Create an X dataframe with the input features and an y series with the target (Survived)"
   ]
  },
  {
   "cell_type": "code",
   "execution_count": 11,
   "metadata": {
    "_cell_guid": "4ef8f19d-0906-4c38-a680-1e06240f8533",
    "_uuid": "2e13c55f27f533d15d70fa05cea6aac56c8d9ba9"
   },
   "outputs": [],
   "source": [
    "y = titanic.Survived.copy() # copy “y” column values out"
   ]
  },
  {
   "cell_type": "code",
   "execution_count": 12,
   "metadata": {
    "_cell_guid": "eded1f9d-2b81-4894-90b5-eb128b948d6c",
    "_uuid": "fad0889cbcd83e597faafc6f1d978b214feb3dbc"
   },
   "outputs": [],
   "source": [
    "X = titanic.drop(['Survived'], axis=1) # then, drop y column"
   ]
  },
  {
   "cell_type": "markdown",
   "metadata": {
    "_cell_guid": "bb8a8faa-5b56-4f97-adb4-54bf061d90a7",
    "_uuid": "623366646e107ec78f9d927f91003d7c81e31a4b",
    "collapsed": true
   },
   "source": [
    "### Drop not so important features\n",
    "For the first model, we ignore some categorical features which will not add too much of a signal."
   ]
  },
  {
   "cell_type": "code",
   "execution_count": 13,
   "metadata": {
    "_cell_guid": "58352eda-b4c7-4469-b155-02d44e566526",
    "_uuid": "8d96706177375d34f0b3e282263a551f8e387436"
   },
   "outputs": [],
   "source": [
    "X.drop(['Cabin'], axis=1, inplace=True) "
   ]
  },
  {
   "cell_type": "code",
   "execution_count": 14,
   "metadata": {
    "_cell_guid": "425a37c1-faa7-4f08-bac9-3c046d64b0b5",
    "_uuid": "0f1f74cebd914233d30e05d84290fd49e2cd3cc1"
   },
   "outputs": [],
   "source": [
    "X.drop(['Ticket'], axis=1, inplace=True) "
   ]
  },
  {
   "cell_type": "code",
   "execution_count": 15,
   "metadata": {
    "_cell_guid": "c676db74-31ac-459c-95ca-0e9d78f1c974",
    "_uuid": "fa24400b1cfe919ba97ea844ff52081456d239eb"
   },
   "outputs": [],
   "source": [
    "X.drop(['Name'], axis=1, inplace=True) \n",
    "X.drop(['PassengerId'], axis=1, inplace=True)"
   ]
  },
  {
   "cell_type": "code",
   "execution_count": 16,
   "metadata": {
    "_cell_guid": "5eada173-6b91-4cfb-b828-bcc85f2f01f7",
    "_uuid": "cd78157a04151d0869c69d5d8b5dbf7d8aae15ab"
   },
   "outputs": [
    {
     "name": "stdout",
     "output_type": "stream",
     "text": [
      "<class 'pandas.core.frame.DataFrame'>\n",
      "RangeIndex: 891 entries, 0 to 890\n",
      "Data columns (total 9 columns):\n",
      "Pclass        891 non-null int64\n",
      "Sex           891 non-null int64\n",
      "Age           714 non-null float64\n",
      "SibSp         891 non-null int64\n",
      "Parch         891 non-null int64\n",
      "Fare          891 non-null float64\n",
      "Embarked_C    891 non-null uint8\n",
      "Embarked_Q    891 non-null uint8\n",
      "Embarked_S    891 non-null uint8\n",
      "dtypes: float64(2), int64(4), uint8(3)\n",
      "memory usage: 44.5 KB\n"
     ]
    }
   ],
   "source": [
    "X.info()"
   ]
  },
  {
   "cell_type": "markdown",
   "metadata": {
    "_cell_guid": "43ac2b7e-2b03-425a-acaa-8e06edd5885b",
    "_uuid": "90a817452be0469385eddd5fe0228ecc764fcbfb"
   },
   "source": [
    "All features are now numeric, ready for regression.  \n",
    "But we have still a couple of processing to do."
   ]
  },
  {
   "cell_type": "markdown",
   "metadata": {
    "_cell_guid": "f0ff8da7-1c4d-47b5-825c-49f834ebd6a7",
    "_uuid": "9fb0996c6c11f0748a19761b17626e19c76b7e42"
   },
   "source": [
    "## Check if there are any missing values"
   ]
  },
  {
   "cell_type": "code",
   "execution_count": 17,
   "metadata": {
    "_cell_guid": "9ea55973-5a88-4b40-ae60-4d71afeba189",
    "_uuid": "4135aa8c7932b2bccfa8c7628ff637d13dcdbdde"
   },
   "outputs": [
    {
     "data": {
      "text/plain": [
       "True"
      ]
     },
     "execution_count": 17,
     "metadata": {},
     "output_type": "execute_result"
    }
   ],
   "source": [
    "X.isnull().values.any()"
   ]
  },
  {
   "cell_type": "code",
   "execution_count": 19,
   "metadata": {
    "_cell_guid": "e779c2cb-5574-4c6d-b894-16e182d8cdbe",
    "_uuid": "188b8a206964462e744427c47894096a4c7dc8f2"
   },
   "outputs": [
    {
     "data": {
      "text/html": [
       "<div>\n",
       "<style scoped>\n",
       "    .dataframe tbody tr th:only-of-type {\n",
       "        vertical-align: middle;\n",
       "    }\n",
       "\n",
       "    .dataframe tbody tr th {\n",
       "        vertical-align: top;\n",
       "    }\n",
       "\n",
       "    .dataframe thead th {\n",
       "        text-align: right;\n",
       "    }\n",
       "</style>\n",
       "<table border=\"1\" class=\"dataframe\">\n",
       "  <thead>\n",
       "    <tr style=\"text-align: right;\">\n",
       "      <th></th>\n",
       "      <th>Pclass</th>\n",
       "      <th>Sex</th>\n",
       "      <th>Age</th>\n",
       "      <th>SibSp</th>\n",
       "      <th>Parch</th>\n",
       "      <th>Fare</th>\n",
       "      <th>Embarked_C</th>\n",
       "      <th>Embarked_Q</th>\n",
       "      <th>Embarked_S</th>\n",
       "    </tr>\n",
       "  </thead>\n",
       "  <tbody>\n",
       "    <tr>\n",
       "      <td>5</td>\n",
       "      <td>3</td>\n",
       "      <td>0</td>\n",
       "      <td>NaN</td>\n",
       "      <td>0</td>\n",
       "      <td>0</td>\n",
       "      <td>8.4583</td>\n",
       "      <td>0</td>\n",
       "      <td>1</td>\n",
       "      <td>0</td>\n",
       "    </tr>\n",
       "    <tr>\n",
       "      <td>17</td>\n",
       "      <td>2</td>\n",
       "      <td>0</td>\n",
       "      <td>NaN</td>\n",
       "      <td>0</td>\n",
       "      <td>0</td>\n",
       "      <td>13.0000</td>\n",
       "      <td>0</td>\n",
       "      <td>0</td>\n",
       "      <td>1</td>\n",
       "    </tr>\n",
       "    <tr>\n",
       "      <td>19</td>\n",
       "      <td>3</td>\n",
       "      <td>1</td>\n",
       "      <td>NaN</td>\n",
       "      <td>0</td>\n",
       "      <td>0</td>\n",
       "      <td>7.2250</td>\n",
       "      <td>1</td>\n",
       "      <td>0</td>\n",
       "      <td>0</td>\n",
       "    </tr>\n",
       "    <tr>\n",
       "      <td>26</td>\n",
       "      <td>3</td>\n",
       "      <td>0</td>\n",
       "      <td>NaN</td>\n",
       "      <td>0</td>\n",
       "      <td>0</td>\n",
       "      <td>7.2250</td>\n",
       "      <td>1</td>\n",
       "      <td>0</td>\n",
       "      <td>0</td>\n",
       "    </tr>\n",
       "    <tr>\n",
       "      <td>28</td>\n",
       "      <td>3</td>\n",
       "      <td>1</td>\n",
       "      <td>NaN</td>\n",
       "      <td>0</td>\n",
       "      <td>0</td>\n",
       "      <td>7.8792</td>\n",
       "      <td>0</td>\n",
       "      <td>1</td>\n",
       "      <td>0</td>\n",
       "    </tr>\n",
       "    <tr>\n",
       "      <td>...</td>\n",
       "      <td>...</td>\n",
       "      <td>...</td>\n",
       "      <td>...</td>\n",
       "      <td>...</td>\n",
       "      <td>...</td>\n",
       "      <td>...</td>\n",
       "      <td>...</td>\n",
       "      <td>...</td>\n",
       "      <td>...</td>\n",
       "    </tr>\n",
       "    <tr>\n",
       "      <td>859</td>\n",
       "      <td>3</td>\n",
       "      <td>0</td>\n",
       "      <td>NaN</td>\n",
       "      <td>0</td>\n",
       "      <td>0</td>\n",
       "      <td>7.2292</td>\n",
       "      <td>1</td>\n",
       "      <td>0</td>\n",
       "      <td>0</td>\n",
       "    </tr>\n",
       "    <tr>\n",
       "      <td>863</td>\n",
       "      <td>3</td>\n",
       "      <td>1</td>\n",
       "      <td>NaN</td>\n",
       "      <td>8</td>\n",
       "      <td>2</td>\n",
       "      <td>69.5500</td>\n",
       "      <td>0</td>\n",
       "      <td>0</td>\n",
       "      <td>1</td>\n",
       "    </tr>\n",
       "    <tr>\n",
       "      <td>868</td>\n",
       "      <td>3</td>\n",
       "      <td>0</td>\n",
       "      <td>NaN</td>\n",
       "      <td>0</td>\n",
       "      <td>0</td>\n",
       "      <td>9.5000</td>\n",
       "      <td>0</td>\n",
       "      <td>0</td>\n",
       "      <td>1</td>\n",
       "    </tr>\n",
       "    <tr>\n",
       "      <td>878</td>\n",
       "      <td>3</td>\n",
       "      <td>0</td>\n",
       "      <td>NaN</td>\n",
       "      <td>0</td>\n",
       "      <td>0</td>\n",
       "      <td>7.8958</td>\n",
       "      <td>0</td>\n",
       "      <td>0</td>\n",
       "      <td>1</td>\n",
       "    </tr>\n",
       "    <tr>\n",
       "      <td>888</td>\n",
       "      <td>3</td>\n",
       "      <td>1</td>\n",
       "      <td>NaN</td>\n",
       "      <td>1</td>\n",
       "      <td>2</td>\n",
       "      <td>23.4500</td>\n",
       "      <td>0</td>\n",
       "      <td>0</td>\n",
       "      <td>1</td>\n",
       "    </tr>\n",
       "  </tbody>\n",
       "</table>\n",
       "<p>177 rows × 9 columns</p>\n",
       "</div>"
      ],
      "text/plain": [
       "     Pclass  Sex  Age  SibSp  Parch     Fare  Embarked_C  Embarked_Q  \\\n",
       "5         3    0  NaN      0      0   8.4583           0           1   \n",
       "17        2    0  NaN      0      0  13.0000           0           0   \n",
       "19        3    1  NaN      0      0   7.2250           1           0   \n",
       "26        3    0  NaN      0      0   7.2250           1           0   \n",
       "28        3    1  NaN      0      0   7.8792           0           1   \n",
       "..      ...  ...  ...    ...    ...      ...         ...         ...   \n",
       "859       3    0  NaN      0      0   7.2292           1           0   \n",
       "863       3    1  NaN      8      2  69.5500           0           0   \n",
       "868       3    0  NaN      0      0   9.5000           0           0   \n",
       "878       3    0  NaN      0      0   7.8958           0           0   \n",
       "888       3    1  NaN      1      2  23.4500           0           0   \n",
       "\n",
       "     Embarked_S  \n",
       "5             0  \n",
       "17            1  \n",
       "19            0  \n",
       "26            0  \n",
       "28            0  \n",
       "..          ...  \n",
       "859           0  \n",
       "863           1  \n",
       "868           1  \n",
       "878           1  \n",
       "888           1  \n",
       "\n",
       "[177 rows x 9 columns]"
      ]
     },
     "execution_count": 19,
     "metadata": {},
     "output_type": "execute_result"
    }
   ],
   "source": [
    "X[pd.isnull(X).any(axis=1)]  # check which rows have NaNs"
   ]
  },
  {
   "cell_type": "markdown",
   "metadata": {
    "_cell_guid": "29993da6-d111-4b5d-83da-1a332e344725",
    "_uuid": "bb90d1e4e02687bba3af77e7aec60a9d2a907a03"
   },
   "source": [
    "True, there are missing values in the data (NaN) and a quick look at the data reveals that they are all in the Age feature.  \n",
    "One possibility could be to remove the feature, another one is to fill the missing value with a fixed number or the average age."
   ]
  },
  {
   "cell_type": "code",
   "execution_count": 20,
   "metadata": {
    "_cell_guid": "b9cdbb15-c258-4f65-9dff-1c524a10c554",
    "_uuid": "09bbf45f9e3a60b70721aff6c37498241ef06a22"
   },
   "outputs": [],
   "source": [
    "X.Age.fillna(X.Age.mean(), inplace=True)  # replace NaN with average age"
   ]
  },
  {
   "cell_type": "code",
   "execution_count": 21,
   "metadata": {
    "_cell_guid": "801cebad-3620-40e5-95c6-05e2d9cbd3f3",
    "_uuid": "1b79ee7333c58f69fc2c60b8407ed8fc2237de24"
   },
   "outputs": [
    {
     "data": {
      "text/plain": [
       "False"
      ]
     },
     "execution_count": 21,
     "metadata": {},
     "output_type": "execute_result"
    }
   ],
   "source": [
    "X.isnull().values.any()"
   ]
  },
  {
   "cell_type": "markdown",
   "metadata": {
    "_cell_guid": "7d38fd3d-abbd-426c-8596-8639bc109415",
    "_uuid": "a67a3d5e597d5dbe82889f565cd96c7eb217b724"
   },
   "source": [
    "Now all missing values have been removed.  \n",
    "The logistic regression would otherwise not work with missing values."
   ]
  },
  {
   "cell_type": "markdown",
   "metadata": {
    "_cell_guid": "d271de3f-17a2-4266-85d5-cb503bf71ae0",
    "_uuid": "1fcb68f671791372fd19a06a541d206f18314028"
   },
   "source": [
    "## Split the dataset into training and validation\n",
    "\n",
    "The **training** set will be used to build the machine learning models. The model will be based on the features like passengers’ gender and class but also on the known survived flag.\n",
    "\n",
    "The **validation** set should be used to see how well the model performs on unseen data. For each passenger in the test set, I use the model trained to predict whether or not they survived the sinking of the Titanic, then will be compared with the actual survival flag."
   ]
  },
  {
   "cell_type": "code",
   "execution_count": 22,
   "metadata": {
    "_cell_guid": "375cc187-0e6a-48c1-9abc-8415fdaad3e3",
    "_uuid": "104f8bcd92bcc19098c9b8ff37205a08498c894b"
   },
   "outputs": [],
   "source": [
    "from sklearn.model_selection import train_test_split\n",
    "  # 80 % go into the training test, 20% in the validation test\n",
    "X_train, X_valid, y_train, y_valid = train_test_split(X, y, test_size=0.2, random_state=7)"
   ]
  },
  {
   "cell_type": "markdown",
   "metadata": {
    "_cell_guid": "28ee2c04-2c17-4161-a34e-99a2dfc4ec4a",
    "_uuid": "3fb77b5ad0f522018496a4dce9f0e678987b2995"
   },
   "source": [
    "# 3. Modelling"
   ]
  },
  {
   "cell_type": "markdown",
   "metadata": {},
   "source": [
    "## Removing outliers"
   ]
  },
  {
   "cell_type": "code",
   "execution_count": 31,
   "metadata": {},
   "outputs": [],
   "source": [
    "from scipy import stats"
   ]
  },
  {
   "cell_type": "code",
   "execution_count": 32,
   "metadata": {},
   "outputs": [
    {
     "name": "stdout",
     "output_type": "stream",
     "text": [
      "skewnees of data [-0.62948588  0.61787841  0.43375629  3.68912768  2.74448674  4.77925329\n",
      "  1.59246242  2.94381099 -0.99540335]\n"
     ]
    }
   ],
   "source": [
    "print(\"skewnees of data\",stats.skew(X))"
   ]
  },
  {
   "cell_type": "code",
   "execution_count": 33,
   "metadata": {},
   "outputs": [
    {
     "name": "stdout",
     "output_type": "stream",
     "text": [
      "kurtosis of data  [-1.27956968 -1.61822627  0.95413892 17.77351175  9.71661324 33.20428925\n",
      "  0.53593657  6.66602317 -1.00917218]\n"
     ]
    }
   ],
   "source": [
    "print(\"kurtosis of data \", stats.kurtosis(X))"
   ]
  },
  {
   "cell_type": "code",
   "execution_count": 36,
   "metadata": {},
   "outputs": [
    {
     "name": "stdout",
     "output_type": "stream",
     "text": [
      "[[0.82737724 0.73769513 0.5924806  ... 0.48204268 0.30756234 0.61930636]\n",
      " [1.56610693 1.35557354 0.63878901 ... 2.0745051  0.30756234 1.61470971]\n",
      " [0.82737724 1.35557354 0.2846632  ... 0.48204268 0.30756234 0.61930636]\n",
      " ...\n",
      " [0.82737724 1.35557354 0.         ... 0.48204268 0.30756234 0.61930636]\n",
      " [1.56610693 0.73769513 0.2846632  ... 2.0745051  0.30756234 1.61470971]\n",
      " [0.82737724 0.73769513 0.17706291 ... 0.48204268 3.25137334 1.61470971]]\n"
     ]
    }
   ],
   "source": [
    "import numpy as np\n",
    "import pandas as pd\n",
    "xdf = pd.DataFrame(X)\n",
    "zscore = np.abs(stats.zscore(xdf))\n",
    "print(zscore)"
   ]
  },
  {
   "cell_type": "code",
   "execution_count": 37,
   "metadata": {},
   "outputs": [],
   "source": [
    "outlierlist = np.where(zscore>3)"
   ]
  },
  {
   "cell_type": "code",
   "execution_count": 38,
   "metadata": {},
   "outputs": [
    {
     "data": {
      "text/plain": [
       "(array([  5,  13,  16,  16,  22,  25,  27,  28,  32,  44,  46,  47,  50,\n",
       "         59,  68,  71,  82,  86,  88,  96, 109, 116, 116, 118, 119, 126,\n",
       "        143, 156, 159, 164, 167, 171, 171, 180, 182, 186, 188, 196, 198,\n",
       "        201, 208, 214, 233, 241, 245, 258, 260, 261, 264, 266, 274, 278,\n",
       "        278, 280, 289, 299, 300, 301, 303, 311, 322, 324, 330, 341, 358,\n",
       "        359, 360, 364, 368, 377, 380, 386, 388, 411, 412, 421, 428, 437,\n",
       "        438, 438, 459, 468, 480, 493, 501, 502, 510, 517, 525, 527, 541,\n",
       "        542, 552, 557, 560, 567, 573, 593, 610, 612, 613, 626, 629, 630,\n",
       "        638, 653, 654, 657, 672, 678, 679, 680, 683, 686, 689, 697, 700,\n",
       "        703, 716, 718, 727, 730, 736, 737, 742, 745, 749, 767, 768, 774,\n",
       "        776, 778, 779, 787, 787, 790, 792, 813, 824, 825, 828, 846, 850,\n",
       "        851, 858, 863, 885, 885, 890], dtype=int64),\n",
       " array([7, 4, 3, 7, 7, 4, 5, 7, 7, 7, 7, 7, 3, 3, 3, 3, 7, 4, 5, 2, 7, 2,\n",
       "        7, 5, 3, 7, 7, 7, 3, 3, 4, 3, 7, 3, 3, 7, 7, 7, 7, 3, 7, 7, 3, 7,\n",
       "        7, 5, 7, 3, 7, 3, 7, 3, 7, 7, 7, 5, 7, 7, 7, 5, 7, 3, 7, 5, 7, 7,\n",
       "        4, 7, 7, 5, 5, 3, 7, 7, 7, 7, 7, 4, 4, 5, 7, 7, 3, 2, 7, 7, 7, 7,\n",
       "        7, 5, 3, 3, 7, 5, 7, 4, 7, 7, 4, 7, 7, 7, 7, 2, 4, 7, 7, 7, 2, 4,\n",
       "        5, 7, 3, 3, 5, 7, 5, 7, 5, 7, 7, 5, 4, 5, 5, 2, 7, 7, 7, 4, 7, 7,\n",
       "        5, 3, 7, 7, 3, 3, 3, 7, 7, 3, 3, 2, 4, 3, 4, 7, 7], dtype=int64))"
      ]
     },
     "execution_count": 38,
     "metadata": {},
     "output_type": "execute_result"
    }
   ],
   "source": [
    "outlierlist"
   ]
  },
  {
   "cell_type": "code",
   "execution_count": 39,
   "metadata": {},
   "outputs": [],
   "source": [
    "final = outlierlist[0]"
   ]
  },
  {
   "cell_type": "code",
   "execution_count": 41,
   "metadata": {},
   "outputs": [],
   "source": [
    "new_xdf = xdf.drop(index=final)\n",
    "ydf = pd.DataFrame(y)\n",
    "new_ydf = ydf.drop(index=final)"
   ]
  },
  {
   "cell_type": "code",
   "execution_count": 42,
   "metadata": {},
   "outputs": [],
   "source": [
    "x_train_new,x_test_new,y_train_new,y_test_new = train_test_split(new_xdf,new_ydf)"
   ]
  },
  {
   "cell_type": "code",
   "execution_count": 44,
   "metadata": {},
   "outputs": [],
   "source": [
    "from sklearn.linear_model import LogisticRegression\n",
    "model1 = LogisticRegression()"
   ]
  },
  {
   "cell_type": "code",
   "execution_count": 45,
   "metadata": {},
   "outputs": [
    {
     "name": "stderr",
     "output_type": "stream",
     "text": [
      "C:\\Users\\Vijay Purohit\\Anaconda3\\lib\\site-packages\\sklearn\\linear_model\\logistic.py:432: FutureWarning: Default solver will be changed to 'lbfgs' in 0.22. Specify a solver to silence this warning.\n",
      "  FutureWarning)\n",
      "C:\\Users\\Vijay Purohit\\Anaconda3\\lib\\site-packages\\sklearn\\utils\\validation.py:724: DataConversionWarning: A column-vector y was passed when a 1d array was expected. Please change the shape of y to (n_samples, ), for example using ravel().\n",
      "  y = column_or_1d(y, warn=True)\n"
     ]
    },
    {
     "data": {
      "text/plain": [
       "LogisticRegression(C=1.0, class_weight=None, dual=False, fit_intercept=True,\n",
       "                   intercept_scaling=1, l1_ratio=None, max_iter=100,\n",
       "                   multi_class='warn', n_jobs=None, penalty='l2',\n",
       "                   random_state=None, solver='warn', tol=0.0001, verbose=0,\n",
       "                   warm_start=False)"
      ]
     },
     "execution_count": 45,
     "metadata": {},
     "output_type": "execute_result"
    }
   ],
   "source": [
    "model1.fit(x_train_new, y_train_new)"
   ]
  },
  {
   "cell_type": "code",
   "execution_count": null,
   "metadata": {},
   "outputs": [],
   "source": []
  },
  {
   "cell_type": "markdown",
   "metadata": {
    "_cell_guid": "d4593c17-a3af-4dbb-9281-5edeabda8826",
    "_uuid": "8286bd009da563759c5b9161fd0199a1c32c89df"
   },
   "source": [
    "##  Logistic Regression"
   ]
  },
  {
   "cell_type": "markdown",
   "metadata": {
    "_cell_guid": "61305e27-c5cc-4ef0-b3a7-697e3c11fcf4",
    "_uuid": "c25f12bab80cf30520cb45b14d11b34f94faedf7"
   },
   "source": [
    "Will use a simple logistic regression, that takes all the features in X and creates a regression line.\n",
    "This is done using the LogisticRegression module in SciKitLearn."
   ]
  },
  {
   "cell_type": "code",
   "execution_count": 23,
   "metadata": {
    "_cell_guid": "b50b0b15-2301-4dad-8f36-17a57bd45c05",
    "_uuid": "da79b04df0c2ac05a08f3296970d1aecb43a4db0"
   },
   "outputs": [],
   "source": [
    "from sklearn.linear_model import LogisticRegression\n",
    "model = LogisticRegression()"
   ]
  },
  {
   "cell_type": "code",
   "execution_count": 24,
   "metadata": {
    "_cell_guid": "28f733c9-1701-45fb-acc1-f70cf69cb73a",
    "_uuid": "bcd1563b5ccfcb70bfe972369560f5dd1b2a239c"
   },
   "outputs": [
    {
     "name": "stderr",
     "output_type": "stream",
     "text": [
      "C:\\Users\\Vijay Purohit\\Anaconda3\\lib\\site-packages\\sklearn\\linear_model\\logistic.py:432: FutureWarning: Default solver will be changed to 'lbfgs' in 0.22. Specify a solver to silence this warning.\n",
      "  FutureWarning)\n"
     ]
    },
    {
     "data": {
      "text/plain": [
       "LogisticRegression(C=1.0, class_weight=None, dual=False, fit_intercept=True,\n",
       "                   intercept_scaling=1, l1_ratio=None, max_iter=100,\n",
       "                   multi_class='warn', n_jobs=None, penalty='l2',\n",
       "                   random_state=None, solver='warn', tol=0.0001, verbose=0,\n",
       "                   warm_start=False)"
      ]
     },
     "execution_count": 24,
     "metadata": {},
     "output_type": "execute_result"
    }
   ],
   "source": [
    "model.fit(X_train, y_train)"
   ]
  },
  {
   "cell_type": "markdown",
   "metadata": {
    "_cell_guid": "1847aca6-ec5f-4c0d-9322-0c2ea0a361d5",
    "_uuid": "e3518da452af052ce095cb7fed30dbad9cb2dfe0"
   },
   "source": [
    "# 4. Evaluate the model"
   ]
  },
  {
   "cell_type": "markdown",
   "metadata": {},
   "source": [
    "## Test Model which usages Outliers "
   ]
  },
  {
   "cell_type": "code",
   "execution_count": 46,
   "metadata": {},
   "outputs": [
    {
     "data": {
      "text/plain": [
       "0.7935393258426966"
      ]
     },
     "execution_count": 46,
     "metadata": {},
     "output_type": "execute_result"
    }
   ],
   "source": [
    "model1.score(X_train, y_train)"
   ]
  },
  {
   "cell_type": "code",
   "execution_count": 48,
   "metadata": {},
   "outputs": [
    {
     "data": {
      "text/plain": [
       "0.7541899441340782"
      ]
     },
     "execution_count": 48,
     "metadata": {},
     "output_type": "execute_result"
    }
   ],
   "source": [
    "model1.score(X_valid, y_valid)"
   ]
  },
  {
   "cell_type": "markdown",
   "metadata": {},
   "source": [
    "## Test Model Without Outliers"
   ]
  },
  {
   "cell_type": "code",
   "execution_count": 25,
   "metadata": {
    "_cell_guid": "c6397771-ccfd-4727-995b-53d7602c77a9",
    "_uuid": "a6f875ec1e0bcf35c4975c24641036f3587cbf2b"
   },
   "outputs": [
    {
     "data": {
      "text/plain": [
       "0.8103932584269663"
      ]
     },
     "execution_count": 25,
     "metadata": {},
     "output_type": "execute_result"
    }
   ],
   "source": [
    "model.score(X_train, y_train)"
   ]
  },
  {
   "cell_type": "code",
   "execution_count": 26,
   "metadata": {
    "_cell_guid": "fa0a2259-a479-41ed-81c0-e1e16e0893f9",
    "_uuid": "78d7d53d2120f54f8e2300254b5959ccba3849e6"
   },
   "outputs": [
    {
     "data": {
      "text/plain": [
       "0.7597765363128491"
      ]
     },
     "execution_count": 26,
     "metadata": {},
     "output_type": "execute_result"
    }
   ],
   "source": [
    "model.score(X_valid, y_valid)"
   ]
  },
  {
   "cell_type": "markdown",
   "metadata": {
    "_cell_guid": "69a931af-a031-4e64-aa9e-0bd99ba6d6e5",
    "_uuid": "7f464bf74547e77e348b03b1218dfddc8ead0a1e"
   },
   "source": [
    "Two things:\n",
    "- the score on the training set is much better than on the validation set, an indication that could be overfitting and not being a general model, e.g. for all ship sinks.\n",
    "- the score on the validation set is quite better, so it adds some value at a minimal cost."
   ]
  },
  {
   "cell_type": "code",
   "execution_count": 27,
   "metadata": {
    "_cell_guid": "0750b17e-0e07-4b2a-b184-883a05691914",
    "_uuid": "203d436e9a7bf4b771ffa854d04d4f3b483e3665"
   },
   "outputs": [
    {
     "data": {
      "text/plain": [
       "array([1.42242589])"
      ]
     },
     "execution_count": 27,
     "metadata": {},
     "output_type": "execute_result"
    }
   ],
   "source": [
    "model.intercept_ # the fitted intercept"
   ]
  },
  {
   "cell_type": "code",
   "execution_count": 28,
   "metadata": {
    "_cell_guid": "270f9c5b-fc00-452e-8db3-b46dfd254016",
    "_uuid": "1af225662affcbd64033439c0f4c9429e24c9623"
   },
   "outputs": [
    {
     "data": {
      "text/plain": [
       "array([[-9.31919223e-01,  2.83123062e+00, -3.92725786e-02,\n",
       "        -3.92811222e-01,  1.93182310e-02,  1.90387322e-03,\n",
       "         7.44068132e-01,  4.55523778e-01,  2.22833985e-01]])"
      ]
     },
     "execution_count": 28,
     "metadata": {},
     "output_type": "execute_result"
    }
   ],
   "source": [
    "model.coef_  # the fitted coefficients"
   ]
  },
  {
   "cell_type": "markdown",
   "metadata": {
    "_cell_guid": "64c0ac0e-b021-4b35-82d3-f2e2dfdeff9f",
    "_uuid": "152e917a09344836fd2cba1e60214aafff414678"
   },
   "source": [
    "The correlation matrix may give us a understanding of which variables are important"
   ]
  },
  {
   "cell_type": "code",
   "execution_count": 29,
   "metadata": {
    "_cell_guid": "c1a628bc-0275-4da3-b6e1-01ffbcf3c143",
    "_uuid": "5fee6c2cb815eccaf9c6febc046eafc66e22883f"
   },
   "outputs": [
    {
     "data": {
      "text/html": [
       "<div>\n",
       "<style scoped>\n",
       "    .dataframe tbody tr th:only-of-type {\n",
       "        vertical-align: middle;\n",
       "    }\n",
       "\n",
       "    .dataframe tbody tr th {\n",
       "        vertical-align: top;\n",
       "    }\n",
       "\n",
       "    .dataframe thead th {\n",
       "        text-align: right;\n",
       "    }\n",
       "</style>\n",
       "<table border=\"1\" class=\"dataframe\">\n",
       "  <thead>\n",
       "    <tr style=\"text-align: right;\">\n",
       "      <th></th>\n",
       "      <th>PassengerId</th>\n",
       "      <th>Survived</th>\n",
       "      <th>Pclass</th>\n",
       "      <th>Sex</th>\n",
       "      <th>Age</th>\n",
       "      <th>SibSp</th>\n",
       "      <th>Parch</th>\n",
       "      <th>Fare</th>\n",
       "      <th>Embarked_C</th>\n",
       "      <th>Embarked_Q</th>\n",
       "      <th>Embarked_S</th>\n",
       "    </tr>\n",
       "  </thead>\n",
       "  <tbody>\n",
       "    <tr>\n",
       "      <td>PassengerId</td>\n",
       "      <td>1.000000</td>\n",
       "      <td>-0.005007</td>\n",
       "      <td>-0.035144</td>\n",
       "      <td>-0.042939</td>\n",
       "      <td>0.036847</td>\n",
       "      <td>-0.057527</td>\n",
       "      <td>-0.001652</td>\n",
       "      <td>0.012658</td>\n",
       "      <td>-0.001205</td>\n",
       "      <td>-0.033606</td>\n",
       "      <td>0.022148</td>\n",
       "    </tr>\n",
       "    <tr>\n",
       "      <td>Survived</td>\n",
       "      <td>-0.005007</td>\n",
       "      <td>1.000000</td>\n",
       "      <td>-0.338481</td>\n",
       "      <td>0.543351</td>\n",
       "      <td>-0.077221</td>\n",
       "      <td>-0.035322</td>\n",
       "      <td>0.081629</td>\n",
       "      <td>0.257307</td>\n",
       "      <td>0.168240</td>\n",
       "      <td>0.003650</td>\n",
       "      <td>-0.155660</td>\n",
       "    </tr>\n",
       "    <tr>\n",
       "      <td>Pclass</td>\n",
       "      <td>-0.035144</td>\n",
       "      <td>-0.338481</td>\n",
       "      <td>1.000000</td>\n",
       "      <td>-0.131900</td>\n",
       "      <td>-0.369226</td>\n",
       "      <td>0.083081</td>\n",
       "      <td>0.018443</td>\n",
       "      <td>-0.549500</td>\n",
       "      <td>-0.243292</td>\n",
       "      <td>0.221009</td>\n",
       "      <td>0.081720</td>\n",
       "    </tr>\n",
       "    <tr>\n",
       "      <td>Sex</td>\n",
       "      <td>-0.042939</td>\n",
       "      <td>0.543351</td>\n",
       "      <td>-0.131900</td>\n",
       "      <td>1.000000</td>\n",
       "      <td>-0.093254</td>\n",
       "      <td>0.114631</td>\n",
       "      <td>0.245489</td>\n",
       "      <td>0.182333</td>\n",
       "      <td>0.082853</td>\n",
       "      <td>0.074115</td>\n",
       "      <td>-0.125722</td>\n",
       "    </tr>\n",
       "    <tr>\n",
       "      <td>Age</td>\n",
       "      <td>0.036847</td>\n",
       "      <td>-0.077221</td>\n",
       "      <td>-0.369226</td>\n",
       "      <td>-0.093254</td>\n",
       "      <td>1.000000</td>\n",
       "      <td>-0.308247</td>\n",
       "      <td>-0.189119</td>\n",
       "      <td>0.096067</td>\n",
       "      <td>0.036261</td>\n",
       "      <td>-0.022405</td>\n",
       "      <td>-0.032523</td>\n",
       "    </tr>\n",
       "    <tr>\n",
       "      <td>SibSp</td>\n",
       "      <td>-0.057527</td>\n",
       "      <td>-0.035322</td>\n",
       "      <td>0.083081</td>\n",
       "      <td>0.114631</td>\n",
       "      <td>-0.308247</td>\n",
       "      <td>1.000000</td>\n",
       "      <td>0.414838</td>\n",
       "      <td>0.159651</td>\n",
       "      <td>-0.059528</td>\n",
       "      <td>-0.026354</td>\n",
       "      <td>0.070941</td>\n",
       "    </tr>\n",
       "    <tr>\n",
       "      <td>Parch</td>\n",
       "      <td>-0.001652</td>\n",
       "      <td>0.081629</td>\n",
       "      <td>0.018443</td>\n",
       "      <td>0.245489</td>\n",
       "      <td>-0.189119</td>\n",
       "      <td>0.414838</td>\n",
       "      <td>1.000000</td>\n",
       "      <td>0.216225</td>\n",
       "      <td>-0.011069</td>\n",
       "      <td>-0.081228</td>\n",
       "      <td>0.063036</td>\n",
       "    </tr>\n",
       "    <tr>\n",
       "      <td>Fare</td>\n",
       "      <td>0.012658</td>\n",
       "      <td>0.257307</td>\n",
       "      <td>-0.549500</td>\n",
       "      <td>0.182333</td>\n",
       "      <td>0.096067</td>\n",
       "      <td>0.159651</td>\n",
       "      <td>0.216225</td>\n",
       "      <td>1.000000</td>\n",
       "      <td>0.269335</td>\n",
       "      <td>-0.117216</td>\n",
       "      <td>-0.166603</td>\n",
       "    </tr>\n",
       "    <tr>\n",
       "      <td>Embarked_C</td>\n",
       "      <td>-0.001205</td>\n",
       "      <td>0.168240</td>\n",
       "      <td>-0.243292</td>\n",
       "      <td>0.082853</td>\n",
       "      <td>0.036261</td>\n",
       "      <td>-0.059528</td>\n",
       "      <td>-0.011069</td>\n",
       "      <td>0.269335</td>\n",
       "      <td>1.000000</td>\n",
       "      <td>-0.148258</td>\n",
       "      <td>-0.778359</td>\n",
       "    </tr>\n",
       "    <tr>\n",
       "      <td>Embarked_Q</td>\n",
       "      <td>-0.033606</td>\n",
       "      <td>0.003650</td>\n",
       "      <td>0.221009</td>\n",
       "      <td>0.074115</td>\n",
       "      <td>-0.022405</td>\n",
       "      <td>-0.026354</td>\n",
       "      <td>-0.081228</td>\n",
       "      <td>-0.117216</td>\n",
       "      <td>-0.148258</td>\n",
       "      <td>1.000000</td>\n",
       "      <td>-0.496624</td>\n",
       "    </tr>\n",
       "    <tr>\n",
       "      <td>Embarked_S</td>\n",
       "      <td>0.022148</td>\n",
       "      <td>-0.155660</td>\n",
       "      <td>0.081720</td>\n",
       "      <td>-0.125722</td>\n",
       "      <td>-0.032523</td>\n",
       "      <td>0.070941</td>\n",
       "      <td>0.063036</td>\n",
       "      <td>-0.166603</td>\n",
       "      <td>-0.778359</td>\n",
       "      <td>-0.496624</td>\n",
       "      <td>1.000000</td>\n",
       "    </tr>\n",
       "  </tbody>\n",
       "</table>\n",
       "</div>"
      ],
      "text/plain": [
       "             PassengerId  Survived    Pclass       Sex       Age     SibSp  \\\n",
       "PassengerId     1.000000 -0.005007 -0.035144 -0.042939  0.036847 -0.057527   \n",
       "Survived       -0.005007  1.000000 -0.338481  0.543351 -0.077221 -0.035322   \n",
       "Pclass         -0.035144 -0.338481  1.000000 -0.131900 -0.369226  0.083081   \n",
       "Sex            -0.042939  0.543351 -0.131900  1.000000 -0.093254  0.114631   \n",
       "Age             0.036847 -0.077221 -0.369226 -0.093254  1.000000 -0.308247   \n",
       "SibSp          -0.057527 -0.035322  0.083081  0.114631 -0.308247  1.000000   \n",
       "Parch          -0.001652  0.081629  0.018443  0.245489 -0.189119  0.414838   \n",
       "Fare            0.012658  0.257307 -0.549500  0.182333  0.096067  0.159651   \n",
       "Embarked_C     -0.001205  0.168240 -0.243292  0.082853  0.036261 -0.059528   \n",
       "Embarked_Q     -0.033606  0.003650  0.221009  0.074115 -0.022405 -0.026354   \n",
       "Embarked_S      0.022148 -0.155660  0.081720 -0.125722 -0.032523  0.070941   \n",
       "\n",
       "                Parch      Fare  Embarked_C  Embarked_Q  Embarked_S  \n",
       "PassengerId -0.001652  0.012658   -0.001205   -0.033606    0.022148  \n",
       "Survived     0.081629  0.257307    0.168240    0.003650   -0.155660  \n",
       "Pclass       0.018443 -0.549500   -0.243292    0.221009    0.081720  \n",
       "Sex          0.245489  0.182333    0.082853    0.074115   -0.125722  \n",
       "Age         -0.189119  0.096067    0.036261   -0.022405   -0.032523  \n",
       "SibSp        0.414838  0.159651   -0.059528   -0.026354    0.070941  \n",
       "Parch        1.000000  0.216225   -0.011069   -0.081228    0.063036  \n",
       "Fare         0.216225  1.000000    0.269335   -0.117216   -0.166603  \n",
       "Embarked_C  -0.011069  0.269335    1.000000   -0.148258   -0.778359  \n",
       "Embarked_Q  -0.081228 -0.117216   -0.148258    1.000000   -0.496624  \n",
       "Embarked_S   0.063036 -0.166603   -0.778359   -0.496624    1.000000  "
      ]
     },
     "execution_count": 29,
     "metadata": {},
     "output_type": "execute_result"
    }
   ],
   "source": [
    "titanic.corr()"
   ]
  },
  {
   "cell_type": "code",
   "execution_count": 52,
   "metadata": {
    "scrolled": true
   },
   "outputs": [
    {
     "data": {
      "text/plain": [
       "<matplotlib.axes._subplots.AxesSubplot at 0x27aa0e40a88>"
      ]
     },
     "execution_count": 52,
     "metadata": {},
     "output_type": "execute_result"
    },
    {
     "data": {
      "image/png": "[encoded data removed]",
      "text/plain": [
       "<Figure size 432x288 with 2 Axes>"
      ]
     },
     "metadata": {
      "needs_background": "light"
     },
     "output_type": "display_data"
    }
   ],
   "source": [
    "import seaborn\n",
    "seaborn.heatmap(data=new_xdf.corr())"
   ]
  },
  {
   "cell_type": "code",
   "execution_count": null,
   "metadata": {},
   "outputs": [],
   "source": [
    "import seaborn\n",
    "seaborn.heatmap(data=xdf_new2.corr())"
   ]
  },
  {
   "cell_type": "markdown",
   "metadata": {
    "_cell_guid": "48c1b44b-d0d4-49a8-b505-f20cc781b588",
    "_uuid": "4d328a76a7c3d3fde5073c1ff8a25ec16e1740a8"
   },
   "source": [
    "The resulting score is **0.75119**  \n",
    "Note that the score on the validation set has been a good predictor!"
   ]
  },
  {
   "cell_type": "markdown",
   "metadata": {
    "_cell_guid": "3480ba26-e9c4-49cc-b13f-8e4dbd7e01b2",
    "_uuid": "fa1292b18451b2071bff5f7708cd08a345c6438c"
   },
   "source": [
    "# Thank you"
   ]
  },
  {
   "cell_type": "code",
   "execution_count": null,
   "metadata": {
    "_cell_guid": "d970ed4f-029c-4d43-982c-8ad5b22b38b5",
    "_uuid": "9f88e8fe0b2c4f6dd95c407eac2102347c927e78",
    "collapsed": true
   },
   "outputs": [],
   "source": []
  }
 ],
 "metadata": {
  "anaconda-cloud": {},
  "kernelspec": {
   "display_name": "Python 3",
   "language": "python",
   "name": "python3"
  },
  "language_info": {
   "codemirror_mode": {
    "name": "ipython",
    "version": 3
   },
   "file_extension": ".py",
   "mimetype": "text/x-python",
   "name": "python",
   "nbconvert_exporter": "python",
   "pygments_lexer": "ipython3",
   "version": "3.7.4"
  }
 },
 "nbformat": 4,
 "nbformat_minor": 1
}
